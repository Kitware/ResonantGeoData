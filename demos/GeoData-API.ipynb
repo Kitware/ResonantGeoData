{
 "cells": [
  {
   "cell_type": "code",
   "execution_count": null,
   "metadata": {},
   "outputs": [],
   "source": [
    "from io import BytesIO\n",
    "import imageio\n",
    "import rasterio\n",
    "from rasterio.io import MemoryFile\n",
    "from rasterio.plot import show\n",
    "import matplotlib.pyplot as plt\n",
    "import numpy as np\n",
    "import json\n",
    "import os"
   ]
  },
  {
   "cell_type": "code",
   "execution_count": null,
   "metadata": {},
   "outputs": [],
   "source": [
    "def plot_geojson(gjs, *args, **kwargs):\n",
    "    points = np.array(gjs['coordinates'][0])\n",
    "    return plt.plot(points[:,0], points[:,1], *args, **kwargs)"
   ]
  },
  {
   "cell_type": "code",
   "execution_count": null,
   "metadata": {},
   "outputs": [],
   "source": [
    "from rgdc import Rgdc\n",
    "\n",
    "client = Rgdc(username='username', password='password')"
   ]
  },
  {
   "cell_type": "markdown",
   "metadata": {},
   "source": [
    "## Search"
   ]
  },
  {
   "cell_type": "code",
   "execution_count": null,
   "metadata": {},
   "outputs": [],
   "source": [
    "bbox = {\"type\":\"Polygon\",\n",
    "        \"coordinates\":[[[-105.45091240368326,39.626245373878696],\n",
    "                                         [-105.45091240368326,39.929904289147274],\n",
    "                                         [-104.88775649170178,39.929904289147274],\n",
    "                                         [-104.88775649170178,39.626245373878696],\n",
    "                                         [-105.45091240368326,39.626245373878696]]]}\n",
    "\n",
    "q = client.search(query=json.dumps(bbox), predicate='intersects', datatype='raster')\n",
    "len(q)"
   ]
  },
  {
   "cell_type": "code",
   "execution_count": null,
   "metadata": {
    "scrolled": true
   },
   "outputs": [],
   "source": [
    "for s in q:\n",
    "    print(s['subentry_name'])"
   ]
  },
  {
   "cell_type": "code",
   "execution_count": null,
   "metadata": {},
   "outputs": [],
   "source": [
    "plot_geojson(bbox, 'k--', label='Search Region')\n",
    "for s in q:\n",
    "    plot_geojson(s['footprint'], label=s['subentry_name'])\n",
    "plt.legend()\n",
    "plt.title(f'Count: {len(q)}')"
   ]
  },
  {
   "cell_type": "markdown",
   "metadata": {},
   "source": [
    "## Inspect Raster"
   ]
  },
  {
   "cell_type": "code",
   "execution_count": null,
   "metadata": {},
   "outputs": [],
   "source": [
    "raster = client.session.get(q[0]['detail']).json()\n",
    "raster"
   ]
  },
  {
   "cell_type": "code",
   "execution_count": null,
   "metadata": {},
   "outputs": [],
   "source": [
    "plot_geojson(bbox, 'k--')\n",
    "plot_geojson(raster['outline'], 'r')"
   ]
  },
  {
   "cell_type": "code",
   "execution_count": null,
   "metadata": {},
   "outputs": [],
   "source": [
    "count = len(raster['parent_raster']['image_set']['images'])\n",
    "count"
   ]
  },
  {
   "cell_type": "code",
   "execution_count": null,
   "metadata": {},
   "outputs": [],
   "source": [
    "load_image = lambda imbytes: imageio.imread(BytesIO(imbytes))\n",
    "\n",
    "for i in range(count):\n",
    "    thumb_bytes = client.download_raster_entry_thumbnail(raster['id'], band=i)\n",
    "    thumb = load_image(thumb_bytes)\n",
    "    plt.subplot(1, count, i+1)\n",
    "    plt.imshow(thumb)\n",
    "plt.tight_layout()\n",
    "plt.show()"
   ]
  },
  {
   "cell_type": "markdown",
   "metadata": {},
   "source": [
    "## Download Raster"
   ]
  },
  {
   "cell_type": "code",
   "execution_count": null,
   "metadata": {},
   "outputs": [],
   "source": [
    "paths = client.download_raster_entry(raster['id'])\n",
    "paths"
   ]
  },
  {
   "cell_type": "code",
   "execution_count": null,
   "metadata": {},
   "outputs": [],
   "source": [
    "rasters = [rasterio.open(im) for im in paths['images']]"
   ]
  },
  {
   "cell_type": "code",
   "execution_count": null,
   "metadata": {},
   "outputs": [],
   "source": [
    "for i, src in enumerate(rasters):\n",
    "    plt.subplot(1, count, i+1)\n",
    "    ax = plt.gca()\n",
    "    show(src, ax=ax)\n",
    "plt.tight_layout()\n",
    "plt.show()"
   ]
  },
  {
   "cell_type": "code",
   "execution_count": null,
   "metadata": {},
   "outputs": [],
   "source": []
  }
 ],
 "metadata": {
  "kernelspec": {
   "display_name": "Python [conda env:django] *",
   "language": "python",
   "name": "conda-env-django-py"
  },
  "language_info": {
   "codemirror_mode": {
    "name": "ipython",
    "version": 3
   },
   "file_extension": ".py",
   "mimetype": "text/x-python",
   "name": "python",
   "nbconvert_exporter": "python",
   "pygments_lexer": "ipython3",
   "version": "3.8.3"
  }
 },
 "nbformat": 4,
 "nbformat_minor": 4
}
