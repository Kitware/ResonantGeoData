{
 "cells": [
  {
   "cell_type": "code",
   "execution_count": null,
   "metadata": {},
   "outputs": [],
   "source": [
    "import requests\n",
    "from io import BytesIO\n",
    "import imageio\n",
    "import rasterio\n",
    "from rasterio.io import MemoryFile\n",
    "from rasterio.plot import show\n",
    "import matplotlib.pyplot as plt\n",
    "import numpy as np\n",
    "import json"
   ]
  },
  {
   "cell_type": "code",
   "execution_count": null,
   "metadata": {},
   "outputs": [],
   "source": [
    "class GeoData:\n",
    "    HOST = 'http://localhost:8000'\n",
    "    def __init__(self,):\n",
    "        pass\n",
    "\n",
    "    @staticmethod\n",
    "    def _load_image(content):\n",
    "        return imageio.imread(BytesIO(content))\n",
    "\n",
    "    @staticmethod\n",
    "    def _load_raster(content):\n",
    "        memfile = MemoryFile(content)\n",
    "        dataset = memfile.open()\n",
    "        return dataset\n",
    "\n",
    "    @staticmethod\n",
    "    def get_subsampled_raster(pk):\n",
    "        a = requests.get(f'{GeoData.HOST}/api/geodata/imagery/subsample/{pk}/')\n",
    "        b = requests.get(a.json()['data'])\n",
    "        #return GeoData._load_image(b.content)\n",
    "        return GeoData._load_raster(b.content)\n",
    "\n",
    "    @staticmethod\n",
    "    def get_image_entry(pk):\n",
    "        a = requests.get(f'{GeoData.HOST}/api/geodata/imagery/image_entry/{pk}/data')\n",
    "        #return GeoData._load_image(a.content)\n",
    "        return GeoData._load_raster(a.content)\n",
    "    \n",
    "    @staticmethod\n",
    "    def post_subsample(payload):\n",
    "        a = requests.post(f'{GeoData.HOST}/api/geodata/imagery/subsample/', json=payload)\n",
    "        return json.loads(a.content)\n"
   ]
  },
  {
   "cell_type": "code",
   "execution_count": null,
   "metadata": {},
   "outputs": [],
   "source": [
    "src = GeoData.get_image_entry(46)\n",
    "show(src)"
   ]
  },
  {
   "cell_type": "code",
   "execution_count": null,
   "metadata": {},
   "outputs": [],
   "source": [
    "points = np.array([[-107.08212524738178, 39.01040379702808], \n",
    "                   [-106.96182164246767, 39.03110215679572], \n",
    "                   [-106.90895466037738, 38.98387516880551], \n",
    "                   [-106.9805540376965, 38.91038429753703], \n",
    "                   [-107.07130208569401, 38.952157178475225], \n",
    "                   [-107.08212524738178, 39.01040379702808]])\n",
    "\n",
    "shape = {\"type\": \"Polygon\", \n",
    "         \"coordinates\": [points.tolist(), ]}"
   ]
  },
  {
   "cell_type": "code",
   "execution_count": null,
   "metadata": {},
   "outputs": [],
   "source": [
    "ax = plt.gca()\n",
    "show(src, ax=ax)\n",
    "plt.plot(points[:,0], points[:,1], linewidth=5, color='k')"
   ]
  },
  {
   "cell_type": "code",
   "execution_count": null,
   "metadata": {},
   "outputs": [],
   "source": [
    "payload = {\n",
    "            'source_image': 46,\n",
    "            'sample_type': 'geojson',\n",
    "            'sample_parameters': shape,\n",
    "        }\n",
    "\n",
    "result = GeoData.post_subsample(payload)\n",
    "result"
   ]
  },
  {
   "cell_type": "code",
   "execution_count": null,
   "metadata": {},
   "outputs": [],
   "source": [
    "product = GeoData.get_subsampled_raster(result['pk'])"
   ]
  },
  {
   "cell_type": "code",
   "execution_count": null,
   "metadata": {},
   "outputs": [],
   "source": [
    "ax = plt.gca()\n",
    "show(src, ax=ax, cmap='Greys')\n",
    "show(product, ax=ax)\n",
    "plt.plot(points[:,0], points[:,1], linewidth=5, color='k')\n",
    "plt.show()"
   ]
  },
  {
   "cell_type": "code",
   "execution_count": null,
   "metadata": {},
   "outputs": [],
   "source": []
  }
 ],
 "metadata": {
  "kernelspec": {
   "display_name": "Python [conda env:geospatial]",
   "language": "python",
   "name": "conda-env-geospatial-py"
  },
  "language_info": {
   "codemirror_mode": {
    "name": "ipython",
    "version": 3
   },
   "file_extension": ".py",
   "mimetype": "text/x-python",
   "name": "python",
   "nbconvert_exporter": "python",
   "pygments_lexer": "ipython3",
   "version": "3.7.6"
  }
 },
 "nbformat": 4,
 "nbformat_minor": 4
}
