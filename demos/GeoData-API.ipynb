{
 "cells": [
  {
   "cell_type": "code",
   "execution_count": null,
   "metadata": {},
   "outputs": [],
   "source": [
    "import requests\n",
    "from io import BytesIO\n",
    "import imageio\n",
    "import rasterio\n",
    "from rasterio.io import MemoryFile\n",
    "from rasterio.plot import show\n",
    "import matplotlib.pyplot as plt\n",
    "import numpy as np\n",
    "import json\n",
    "from requests.auth import HTTPBasicAuth"
   ]
  },
  {
   "cell_type": "code",
   "execution_count": null,
   "metadata": {},
   "outputs": [],
   "source": [
    "class GeoData:\n",
    "    HOST = 'http://localhost:8000'\n",
    "    def __init__(self, user, password):\n",
    "        self.auth=HTTPBasicAuth(user, password)\n",
    "\n",
    "    @staticmethod\n",
    "    def _load_image(content):\n",
    "        return imageio.imread(BytesIO(content))\n",
    "\n",
    "    @staticmethod\n",
    "    def _load_raster(content):\n",
    "        memfile = MemoryFile(content)\n",
    "        dataset = memfile.open()\n",
    "        return dataset\n",
    "\n",
    "    def get_subsampled_raster(self, pk):\n",
    "        a = requests.get(f'{GeoData.HOST}/api/geoprocess/imagery/subsample/{pk}', auth=self.auth)\n",
    "        b = requests.get(a.json()['data']['file'], auth=self.auth)\n",
    "        #return GeoData._load_image(b.content)\n",
    "        return GeoData._load_raster(b.content)\n",
    "\n",
    "    def get_image_entry(self, pk):\n",
    "        a = requests.get(f'{GeoData.HOST}/api/geodata/imagery/{pk}/data', auth=self.auth)\n",
    "        #return GeoData._load_image(a.content)\n",
    "        return GeoData._load_raster(a.content)\n",
    "    \n",
    "    def post_subsample(self, payload):\n",
    "        a = requests.post(f'{GeoData.HOST}/api/geoprocess/imagery/subsample', json=payload, auth=self.auth)\n",
    "        return json.loads(a.content)\n",
    "    \n",
    "    def search(self, payload):\n",
    "        a = requests.get(f'{GeoData.HOST}/api/geosearch', params=payload, auth=self.auth)\n",
    "        return json.loads(a.content)\n",
    "    \n",
    "    def get(self, url):\n",
    "        a = requests.get(url, auth=self.auth)\n",
    "        return json.loads(a.content)\n",
    "        \n",
    "client = GeoData('user', 'password')"
   ]
  },
  {
   "cell_type": "markdown",
   "metadata": {},
   "source": [
    "## Search"
   ]
  },
  {
   "cell_type": "code",
   "execution_count": null,
   "metadata": {},
   "outputs": [],
   "source": [
    "bbox = {\"type\":\"Polygon\",\n",
    " \"coordinates\":[[[-107.24629793033489,38.821513321590224],\n",
    "                 [-107.24629793033489,39.21393900330613],\n",
    "                 [-106.49448944065813,39.21393900330613],\n",
    "                 [-106.49448944065813,38.821513321590224],\n",
    "                 [-107.24629793033489,38.821513321590224]]]\n",
    "}\n",
    "\n",
    "search_params = {\n",
    "    \"q\": json.dumps(bbox),\n",
    "    \"predicate\": \"within\",\n",
    "    \"datatype\": \"raster\",\n",
    "}\n",
    "\n",
    "r = client.search(search_params)\n",
    "r"
   ]
  },
  {
   "cell_type": "code",
   "execution_count": null,
   "metadata": {},
   "outputs": [],
   "source": [
    "sp = r['results'][0]\n",
    "sp"
   ]
  },
  {
   "cell_type": "code",
   "execution_count": null,
   "metadata": {},
   "outputs": [],
   "source": [
    "raster = client.get(sp['detail'])\n",
    "raster"
   ]
  },
  {
   "cell_type": "markdown",
   "metadata": {},
   "source": [
    "## DEM Subsampling"
   ]
  },
  {
   "cell_type": "code",
   "execution_count": null,
   "metadata": {},
   "outputs": [],
   "source": [
    "img_id = raster['image_set']['images'][0]['id']"
   ]
  },
  {
   "cell_type": "code",
   "execution_count": null,
   "metadata": {},
   "outputs": [],
   "source": [
    "src = client.get_image_entry(img_id)\n",
    "show(src)"
   ]
  },
  {
   "cell_type": "code",
   "execution_count": null,
   "metadata": {},
   "outputs": [],
   "source": [
    "points = np.array([[-107.08212524738178, 39.01040379702808], \n",
    "                   [-106.96182164246767, 39.03110215679572], \n",
    "                   [-106.90895466037738, 38.98387516880551], \n",
    "                   [-106.9805540376965, 38.91038429753703], \n",
    "                   [-107.07130208569401, 38.952157178475225], \n",
    "                   [-107.08212524738178, 39.01040379702808]])\n",
    "\n",
    "shape = {\"type\": \"Polygon\", \n",
    "         \"coordinates\": [points.tolist(), ]}"
   ]
  },
  {
   "cell_type": "code",
   "execution_count": null,
   "metadata": {},
   "outputs": [],
   "source": [
    "ax = plt.gca()\n",
    "show(src, ax=ax)\n",
    "plt.plot(points[:,0], points[:,1], linewidth=5, color='k')"
   ]
  },
  {
   "cell_type": "code",
   "execution_count": null,
   "metadata": {},
   "outputs": [],
   "source": [
    "payload = {\n",
    "            'source_image': img_id,\n",
    "            'sample_type': 'geojson',\n",
    "            'sample_parameters': shape,\n",
    "        }\n",
    "\n",
    "result = client.post_subsample(payload)\n",
    "result"
   ]
  },
  {
   "cell_type": "code",
   "execution_count": null,
   "metadata": {},
   "outputs": [],
   "source": [
    "product = client.get_subsampled_raster(result['id'])"
   ]
  },
  {
   "cell_type": "code",
   "execution_count": null,
   "metadata": {},
   "outputs": [],
   "source": [
    "ax = plt.gca()\n",
    "show(src, ax=ax, cmap='Greys')\n",
    "show(product, ax=ax)\n",
    "plt.plot(points[:,0], points[:,1], linewidth=5, color='k')\n",
    "plt.show()"
   ]
  },
  {
   "cell_type": "markdown",
   "metadata": {},
   "source": [
    "## Annotation Subsampling"
   ]
  },
  {
   "cell_type": "code",
   "execution_count": null,
   "metadata": {},
   "outputs": [],
   "source": [
    "img_id = 234"
   ]
  },
  {
   "cell_type": "code",
   "execution_count": null,
   "metadata": {},
   "outputs": [],
   "source": [
    "src = client.get_image_entry(img_id)\n",
    "# show(src)"
   ]
  },
  {
   "cell_type": "code",
   "execution_count": null,
   "metadata": {},
   "outputs": [],
   "source": [
    "payload = {\n",
    "            'source_image': img_id,\n",
    "            'sample_type': 'annotation',\n",
    "            'sample_parameters': {'id': 251, 'outline': True},\n",
    "        }\n",
    "\n",
    "result = client.post_subsample(payload)\n",
    "result"
   ]
  },
  {
   "cell_type": "code",
   "execution_count": null,
   "metadata": {},
   "outputs": [],
   "source": [
    "product = client.get_subsampled_raster(result['id'])"
   ]
  },
  {
   "cell_type": "code",
   "execution_count": null,
   "metadata": {},
   "outputs": [],
   "source": [
    "ax = plt.gca()\n",
    "show(src, ax=ax)\n",
    "show(product, ax=ax, )\n",
    "ax.set_xlim(0, src.shape[1])\n",
    "ax.set_ylim(src.shape[0], 0)\n",
    "plt.show()"
   ]
  },
  {
   "cell_type": "code",
   "execution_count": null,
   "metadata": {},
   "outputs": [],
   "source": [
    "src.shape"
   ]
  },
  {
   "cell_type": "code",
   "execution_count": null,
   "metadata": {},
   "outputs": [],
   "source": []
  }
 ],
 "metadata": {
  "kernelspec": {
   "display_name": "Python [conda env:geospatial]",
   "language": "python",
   "name": "conda-env-geospatial-py"
  },
  "language_info": {
   "codemirror_mode": {
    "name": "ipython",
    "version": 3
   },
   "file_extension": ".py",
   "mimetype": "text/x-python",
   "name": "python",
   "nbconvert_exporter": "python",
   "pygments_lexer": "ipython3",
   "version": "3.7.6"
  }
 },
 "nbformat": 4,
 "nbformat_minor": 4
}
